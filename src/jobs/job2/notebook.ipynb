{
 "cells": [
  {
   "cell_type": "code",
   "execution_count": 10,
   "metadata": {},
   "outputs": [],
   "source": [
    "import os\n",
    "import pandas as pd\n",
    "import boto3\n",
    "import sys\n",
    "from awsglue.context import GlueContext\n",
    "from awsglue.dynamicframe import DynamicFrame\n",
    "from pyspark.context import SparkContext\n",
    "from awsglue.job import Job\n",
    "from awsglue.utils import getResolvedOptions\n",
    "from pyspark.sql import functions as F\n",
    "from pyspark.sql.functions import col, lit, current_date, year"
   ]
  },
  {
   "cell_type": "code",
   "execution_count": 11,
   "metadata": {},
   "outputs": [],
   "source": [
    "sc = SparkContext.getOrCreate()\n",
    "glueContext = GlueContext(sc)\n",
    "spark = glueContext.spark_session\n",
    "job = Job(glueContext)\n"
   ]
  },
  {
   "cell_type": "code",
   "execution_count": 12,
   "metadata": {},
   "outputs": [],
   "source": [
    "def load_env(environment):\n",
    "    if environment == \"local\":        \n",
    "        from dotenv import load_dotenv\n",
    "        load_dotenv(\".env\")"
   ]
  },
  {
   "cell_type": "code",
   "execution_count": 13,
   "metadata": {},
   "outputs": [],
   "source": [
    "RELATIVE_PATH_PREFIX=\"./../../..\""
   ]
  },
  {
   "cell_type": "code",
   "execution_count": 14,
   "metadata": {},
   "outputs": [],
   "source": [
    "def calculate_age(data_frame):\n",
    "    # Calculating the current year using the current date\n",
    "    current_year = year(current_date())\n",
    "\n",
    "    # Calculating the age by subtracting the year_of_birth from the current year\n",
    "    age_column = current_year - col(\"year_of_birth\")\n",
    "\n",
    "    # Adding the calculated age as a new column to the DataFrame\n",
    "    data_frame_with_age = data_frame.withColumn(\"age\", age_column)\n",
    "\n",
    "    return data_frame_with_age"
   ]
  },
  {
   "cell_type": "code",
   "execution_count": 15,
   "metadata": {},
   "outputs": [],
   "source": [
    "def transform_and_write_data(data_frame, target_bucket, target_directory, environment):\n",
    "    # Converting all column names to lower snake_case\n",
    "    for col_name in data_frame.columns:\n",
    "        snake_case_name = col_name.lower().replace(\" \", \"_\")\n",
    "        data_frame = data_frame.withColumnRenamed(col_name, snake_case_name)\n",
    "\n",
    "    # Computing full_name by concatenating first_name and last_name\n",
    "    data_frame = data_frame.withColumn(\"full_name\", F.concat_ws(\" \", data_frame[\"first_name\"], data_frame[\"last_name\"]))\n",
    "\n",
    "    # Determine the output path based on the environment\n",
    "    if environment == 'local':\n",
    "\n",
    "        output_path = os.path.join(target_directory, 'output.csv')\n",
    "        print(output_path)\n",
    "        data_frame.write.csv(output_path, mode='overwrite', header=True)\n",
    "    else:\n",
    "        output_path = f\"s3://{target_bucket}/{target_directory}\"\n",
    "        data_frame.write.csv(output_path, mode='overwrite', header=True)\n",
    "    return data_frame"
   ]
  },
  {
   "cell_type": "code",
   "execution_count": 16,
   "metadata": {},
   "outputs": [],
   "source": [
    "def read_data(environment, local_file_path, crawler_name):\n",
    "    if environment == \"local\":\n",
    "        # Read data from local file (e.g., using Pandas)\n",
    "        data = spark.read.csv(local_file_path, header=True)\n",
    "    else:\n",
    "        # Create or retrieve a Spark context\n",
    "        sc = SparkContext.getOrCreate()\n",
    "        glueContext = GlueContext(sc)\n",
    "        glue_client = boto3.client('glue')\n",
    "\n",
    "        # Get the crawler metadata\n",
    "        crawler_metadata = glue_client.get_crawler(Name=crawler_name)\n",
    "\n",
    "        # keys = list(crawler_metadata['Crawler'].keys())\n",
    "\n",
    "        database_name = crawler_metadata['Crawler']['DatabaseName']\n",
    "        prefix = crawler_metadata['Crawler']['Targets']['S3Targets'][0]['Path'] if 'S3Targets' in crawler_metadata['Crawler']['Targets'] else None\n",
    "\n",
    "        # Get table names from the Glue Data Catalog using the database and prefix\n",
    "        response = glue_client.get_tables(DatabaseName=database_name)\n",
    "        # error_message = f\"The keys are: {response['TableList']}, {prefix}\"\n",
    "        # raise Exception(error_message)\n",
    "        tables = [table['Name'] for table in response['TableList']]\n",
    "\n",
    "        # Assuming the first table name matches the prefix, use it for reading data\n",
    "        table_name = tables[0]\n",
    "        print(\"crawler_metadata\")\n",
    "\n",
    "\n",
    "\n",
    "        # Read data from Glue Data Catalog\n",
    "        dynamic_frame = glueContext.create_dynamic_frame.from_catalog(\n",
    "            database=database_name,\n",
    "            table_name=table_name\n",
    "        )\n",
    "\n",
    "        # Convert to a Spark DataFrame (or Pandas DataFrame if needed)\n",
    "        data = dynamic_frame.toDF()\n",
    "\n",
    "    return data"
   ]
  },
  {
   "cell_type": "code",
   "execution_count": 17,
   "metadata": {},
   "outputs": [],
   "source": [
    "def get_env_or_args(env_name):\n",
    "    try:\n",
    "        if os.environ.get(env_name):\n",
    "            return os.getenv(env_name)\n",
    "        else:\n",
    "            return getResolvedOptions(sys.argv,[env_name])[env_name]\n",
    "    except:\n",
    "        return ''\n",
    "    "
   ]
  },
  {
   "cell_type": "code",
   "execution_count": 18,
   "metadata": {},
   "outputs": [
    {
     "ename": "GlueArgumentError",
     "evalue": "the following arguments are required: --SOURCE_CRAWLER",
     "output_type": "error",
     "traceback": [
      "\u001b[0;31m---------------------------------------------------------------------------\u001b[0m",
      "\u001b[0;31mGlueArgumentError\u001b[0m                         Traceback (most recent call last)",
      "\u001b[0;32m<ipython-input-18-e849975ef9f6>\u001b[0m in \u001b[0;36m<module>\u001b[0;34m\u001b[0m\n\u001b[1;32m      1\u001b[0m \u001b[0menvironment\u001b[0m \u001b[0;34m=\u001b[0m \u001b[0mget_env_or_args\u001b[0m\u001b[0;34m(\u001b[0m\u001b[0;34m\"ENVIRONMENT_NAME\"\u001b[0m\u001b[0;34m)\u001b[0m\u001b[0;34m\u001b[0m\u001b[0;34m\u001b[0m\u001b[0m\n\u001b[1;32m      2\u001b[0m \u001b[0mlocal_file_path\u001b[0m \u001b[0;34m=\u001b[0m \u001b[0;34mf\"{RELATIVE_PATH_PREFIX}/data/raw/sample.csv\"\u001b[0m\u001b[0;34m\u001b[0m\u001b[0;34m\u001b[0m\u001b[0m\n\u001b[0;32m----> 3\u001b[0;31m \u001b[0mcrawler_name\u001b[0m \u001b[0;34m=\u001b[0m \u001b[0mget_env_or_args\u001b[0m\u001b[0;34m(\u001b[0m\u001b[0;34m\"SOURCE_CRAWLER\"\u001b[0m\u001b[0;34m)\u001b[0m\u001b[0;34m\u001b[0m\u001b[0;34m\u001b[0m\u001b[0m\n\u001b[0m\u001b[1;32m      4\u001b[0m \u001b[0mdata\u001b[0m \u001b[0;34m=\u001b[0m \u001b[0mread_data\u001b[0m\u001b[0;34m(\u001b[0m\u001b[0menvironment\u001b[0m\u001b[0;34m,\u001b[0m \u001b[0mlocal_file_path\u001b[0m\u001b[0;34m,\u001b[0m \u001b[0mcrawler_name\u001b[0m\u001b[0;34m)\u001b[0m\u001b[0;34m\u001b[0m\u001b[0;34m\u001b[0m\u001b[0m\n",
      "\u001b[0;32m<ipython-input-17-06909ee9f697>\u001b[0m in \u001b[0;36mget_env_or_args\u001b[0;34m(env_name)\u001b[0m\n\u001b[1;32m      3\u001b[0m         \u001b[0;32mreturn\u001b[0m \u001b[0mos\u001b[0m\u001b[0;34m.\u001b[0m\u001b[0mgetenv\u001b[0m\u001b[0;34m(\u001b[0m\u001b[0menv_name\u001b[0m\u001b[0;34m)\u001b[0m\u001b[0;34m\u001b[0m\u001b[0;34m\u001b[0m\u001b[0m\n\u001b[1;32m      4\u001b[0m     \u001b[0;32melse\u001b[0m\u001b[0;34m:\u001b[0m\u001b[0;34m\u001b[0m\u001b[0;34m\u001b[0m\u001b[0m\n\u001b[0;32m----> 5\u001b[0;31m         \u001b[0;32mreturn\u001b[0m \u001b[0mgetResolvedOptions\u001b[0m\u001b[0;34m(\u001b[0m\u001b[0msys\u001b[0m\u001b[0;34m.\u001b[0m\u001b[0margv\u001b[0m\u001b[0;34m,\u001b[0m\u001b[0;34m[\u001b[0m\u001b[0menv_name\u001b[0m\u001b[0;34m]\u001b[0m\u001b[0;34m)\u001b[0m\u001b[0;34m[\u001b[0m\u001b[0menv_name\u001b[0m\u001b[0;34m]\u001b[0m\u001b[0;34m\u001b[0m\u001b[0;34m\u001b[0m\u001b[0m\n\u001b[0m\u001b[1;32m      6\u001b[0m \u001b[0;34m\u001b[0m\u001b[0m\n",
      "\u001b[0;32m~/aws-glue-libs/PyGlue.zip/awsglue/utils.py\u001b[0m in \u001b[0;36mgetResolvedOptions\u001b[0;34m(args, options)\u001b[0m\n\u001b[1;32m    117\u001b[0m         \u001b[0mparser\u001b[0m\u001b[0;34m.\u001b[0m\u001b[0madd_argument\u001b[0m\u001b[0;34m(\u001b[0m\u001b[0;34m'--'\u001b[0m \u001b[0;34m+\u001b[0m \u001b[0moption\u001b[0m\u001b[0;34m,\u001b[0m \u001b[0mrequired\u001b[0m\u001b[0;34m=\u001b[0m\u001b[0;32mTrue\u001b[0m\u001b[0;34m)\u001b[0m\u001b[0;34m\u001b[0m\u001b[0;34m\u001b[0m\u001b[0m\n\u001b[1;32m    118\u001b[0m \u001b[0;34m\u001b[0m\u001b[0m\n\u001b[0;32m--> 119\u001b[0;31m     \u001b[0mparsed\u001b[0m\u001b[0;34m,\u001b[0m \u001b[0mextra\u001b[0m \u001b[0;34m=\u001b[0m \u001b[0mparser\u001b[0m\u001b[0;34m.\u001b[0m\u001b[0mparse_known_args\u001b[0m\u001b[0;34m(\u001b[0m\u001b[0margs\u001b[0m\u001b[0;34m[\u001b[0m\u001b[0;36m1\u001b[0m\u001b[0;34m:\u001b[0m\u001b[0;34m]\u001b[0m\u001b[0;34m)\u001b[0m\u001b[0;34m\u001b[0m\u001b[0;34m\u001b[0m\u001b[0m\n\u001b[0m\u001b[1;32m    120\u001b[0m \u001b[0;34m\u001b[0m\u001b[0m\n\u001b[1;32m    121\u001b[0m     \u001b[0mparsed_dict\u001b[0m \u001b[0;34m=\u001b[0m \u001b[0mvars\u001b[0m\u001b[0;34m(\u001b[0m\u001b[0mparsed\u001b[0m\u001b[0;34m)\u001b[0m\u001b[0;34m\u001b[0m\u001b[0;34m\u001b[0m\u001b[0m\n",
      "\u001b[0;32m/usr/lib64/python3.7/argparse.py\u001b[0m in \u001b[0;36mparse_known_args\u001b[0;34m(self, args, namespace)\u001b[0m\n\u001b[1;32m   1785\u001b[0m         \u001b[0;31m# parse the arguments and exit if there are any errors\u001b[0m\u001b[0;34m\u001b[0m\u001b[0;34m\u001b[0m\u001b[0;34m\u001b[0m\u001b[0m\n\u001b[1;32m   1786\u001b[0m         \u001b[0;32mtry\u001b[0m\u001b[0;34m:\u001b[0m\u001b[0;34m\u001b[0m\u001b[0;34m\u001b[0m\u001b[0m\n\u001b[0;32m-> 1787\u001b[0;31m             \u001b[0mnamespace\u001b[0m\u001b[0;34m,\u001b[0m \u001b[0margs\u001b[0m \u001b[0;34m=\u001b[0m \u001b[0mself\u001b[0m\u001b[0;34m.\u001b[0m\u001b[0m_parse_known_args\u001b[0m\u001b[0;34m(\u001b[0m\u001b[0margs\u001b[0m\u001b[0;34m,\u001b[0m \u001b[0mnamespace\u001b[0m\u001b[0;34m)\u001b[0m\u001b[0;34m\u001b[0m\u001b[0;34m\u001b[0m\u001b[0m\n\u001b[0m\u001b[1;32m   1788\u001b[0m             \u001b[0;32mif\u001b[0m \u001b[0mhasattr\u001b[0m\u001b[0;34m(\u001b[0m\u001b[0mnamespace\u001b[0m\u001b[0;34m,\u001b[0m \u001b[0m_UNRECOGNIZED_ARGS_ATTR\u001b[0m\u001b[0;34m)\u001b[0m\u001b[0;34m:\u001b[0m\u001b[0;34m\u001b[0m\u001b[0;34m\u001b[0m\u001b[0m\n\u001b[1;32m   1789\u001b[0m                 \u001b[0margs\u001b[0m\u001b[0;34m.\u001b[0m\u001b[0mextend\u001b[0m\u001b[0;34m(\u001b[0m\u001b[0mgetattr\u001b[0m\u001b[0;34m(\u001b[0m\u001b[0mnamespace\u001b[0m\u001b[0;34m,\u001b[0m \u001b[0m_UNRECOGNIZED_ARGS_ATTR\u001b[0m\u001b[0;34m)\u001b[0m\u001b[0;34m)\u001b[0m\u001b[0;34m\u001b[0m\u001b[0;34m\u001b[0m\u001b[0m\n",
      "\u001b[0;32m/usr/lib64/python3.7/argparse.py\u001b[0m in \u001b[0;36m_parse_known_args\u001b[0;34m(self, arg_strings, namespace)\u001b[0m\n\u001b[1;32m   2020\u001b[0m         \u001b[0;32mif\u001b[0m \u001b[0mrequired_actions\u001b[0m\u001b[0;34m:\u001b[0m\u001b[0;34m\u001b[0m\u001b[0;34m\u001b[0m\u001b[0m\n\u001b[1;32m   2021\u001b[0m             self.error(_('the following arguments are required: %s') %\n\u001b[0;32m-> 2022\u001b[0;31m                        ', '.join(required_actions))\n\u001b[0m\u001b[1;32m   2023\u001b[0m \u001b[0;34m\u001b[0m\u001b[0m\n\u001b[1;32m   2024\u001b[0m         \u001b[0;31m# make sure all required groups had one option present\u001b[0m\u001b[0;34m\u001b[0m\u001b[0;34m\u001b[0m\u001b[0;34m\u001b[0m\u001b[0m\n",
      "\u001b[0;32m~/aws-glue-libs/PyGlue.zip/awsglue/utils.py\u001b[0m in \u001b[0;36merror\u001b[0;34m(self, msg)\u001b[0m\n\u001b[1;32m     74\u001b[0m \u001b[0;32mclass\u001b[0m \u001b[0mGlueArgumentParser\u001b[0m\u001b[0;34m(\u001b[0m\u001b[0margparse\u001b[0m\u001b[0;34m.\u001b[0m\u001b[0mArgumentParser\u001b[0m\u001b[0;34m)\u001b[0m\u001b[0;34m:\u001b[0m\u001b[0;34m\u001b[0m\u001b[0;34m\u001b[0m\u001b[0m\n\u001b[1;32m     75\u001b[0m     \u001b[0;32mdef\u001b[0m \u001b[0merror\u001b[0m\u001b[0;34m(\u001b[0m\u001b[0mself\u001b[0m\u001b[0;34m,\u001b[0m \u001b[0mmsg\u001b[0m\u001b[0;34m)\u001b[0m\u001b[0;34m:\u001b[0m\u001b[0;34m\u001b[0m\u001b[0;34m\u001b[0m\u001b[0m\n\u001b[0;32m---> 76\u001b[0;31m         \u001b[0;32mraise\u001b[0m \u001b[0mGlueArgumentError\u001b[0m\u001b[0;34m(\u001b[0m\u001b[0mmsg\u001b[0m\u001b[0;34m)\u001b[0m\u001b[0;34m\u001b[0m\u001b[0;34m\u001b[0m\u001b[0m\n\u001b[0m\u001b[1;32m     77\u001b[0m \u001b[0;34m\u001b[0m\u001b[0m\n\u001b[1;32m     78\u001b[0m \u001b[0;34m\u001b[0m\u001b[0m\n",
      "\u001b[0;31mGlueArgumentError\u001b[0m: the following arguments are required: --SOURCE_CRAWLER"
     ]
    }
   ],
   "source": [
    "environment = get_env_or_args(\"ENVIRONMENT_NAME\")\n",
    "local_file_path = f\"{RELATIVE_PATH_PREFIX}/data/raw/sample.csv\"\n",
    "crawler_name = get_env_or_args(\"SOURCE_CRAWLER\")\n",
    "data = read_data(environment, local_file_path, crawler_name)"
   ]
  },
  {
   "cell_type": "code",
   "execution_count": null,
   "metadata": {},
   "outputs": [],
   "source": [
    "print(data.show())\n",
    "\n",
    "target_bucket = get_env_or_args(\"BUCKET_NAME\")\n",
    "target_directory = f\"{RELATIVE_PATH_PREFIX if environment == 'local' else target_bucket}/landing/{get_env_or_args('JOB_NAME')}\"\n",
    "transformed_data = transform_and_write_data(data, target_bucket, target_directory, environment)\n",
    "\n",
    "final_data_with_age = calculate_age(transformed_data)\n",
    "print(final_data_with_age.show())\n",
    "job.commit()"
   ]
  },
  {
   "cell_type": "code",
   "execution_count": null,
   "metadata": {},
   "outputs": [],
   "source": []
  }
 ],
 "metadata": {
  "kernelspec": {
   "display_name": "Python 3",
   "language": "python",
   "name": "python3"
  },
  "language_info": {
   "codemirror_mode": {
    "name": "ipython",
    "version": 3
   },
   "file_extension": ".py",
   "mimetype": "text/x-python",
   "name": "python",
   "nbconvert_exporter": "python",
   "pygments_lexer": "ipython3",
   "version": "3.7.15"
  }
 },
 "nbformat": 4,
 "nbformat_minor": 4
}
